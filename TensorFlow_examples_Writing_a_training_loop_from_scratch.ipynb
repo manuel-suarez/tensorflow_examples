{
  "nbformat": 4,
  "nbformat_minor": 0,
  "metadata": {
    "colab": {
      "name": "TensorFlow examples - Writing a training loop from scratch",
      "provenance": [],
      "collapsed_sections": [],
      "authorship_tag": "ABX9TyOesmdDLz+R/RRn/qBmWBD9",
      "include_colab_link": true
    },
    "kernelspec": {
      "name": "python3",
      "display_name": "Python 3"
    },
    "language_info": {
      "name": "python"
    }
  },
  "cells": [
    {
      "cell_type": "markdown",
      "metadata": {
        "id": "view-in-github",
        "colab_type": "text"
      },
      "source": [
        "<a href=\"https://colab.research.google.com/github/manuel-suarez/tensorflow_examples/blob/main/TensorFlow_examples_Writing_a_training_loop_from_scratch.ipynb\" target=\"_parent\"><img src=\"https://colab.research.google.com/assets/colab-badge.svg\" alt=\"Open In Colab\"/></a>"
      ]
    },
    {
      "cell_type": "markdown",
      "source": [
        "# [Writing a training loop from scratch](https://www.tensorflow.org/guide/keras/writing_a_training_loop_from_scratch?hl=en)"
      ],
      "metadata": {
        "id": "RcI1V0Wu8TeJ"
      }
    },
    {
      "cell_type": "code",
      "execution_count": 1,
      "metadata": {
        "id": "nw82rKfl8P6N"
      },
      "outputs": [],
      "source": [
        "import tensorflow as tf\n",
        "from tensorflow import keras\n",
        "from tensorflow.keras import layers\n",
        "import numpy as np"
      ]
    },
    {
      "cell_type": "code",
      "source": [
        "inputs = keras.Input(shape=(784,), name=\"digits\")\n",
        "x1 = layers.Dense(64, activation=\"relu\")(inputs)\n",
        "x2 = layers.Dense(64, activation=\"relu\")(x1)\n",
        "outputs = layers.Dense(10, name=\"predictions\")(x2)\n",
        "model = keras.Model(inputs=inputs, outputs=outputs)"
      ],
      "metadata": {
        "id": "LLi3qH5i80pj"
      },
      "execution_count": 2,
      "outputs": []
    },
    {
      "cell_type": "code",
      "source": [
        "# Instantiate an optimizer.\n",
        "optimizer = keras.optimizers.SGD(learning_rate=1e-3)\n",
        "# Instantiate a loss function.\n",
        "loss_fn = keras.losses.SparseCategoricalCrossentropy(from_logits=True)\n",
        "\n",
        "# Prepare the training dataset.\n",
        "batch_size = 64\n",
        "(x_train, y_train), (x_test, y_test) = keras.datasets.mnist.load_data()\n",
        "x_train = np.reshape(x_train, (-1, 784))\n",
        "x_test = np.reshape(x_test, (-1, 784))\n",
        "\n",
        "# Reserve 10,000 samples for validation.\n",
        "x_val = x_train[-10000:]\n",
        "y_val = y_train[-10000:]\n",
        "x_train = x_train[:-10000]\n",
        "y_train = y_train[:-10000]\n",
        "\n",
        "# Prepare the training dataset.\n",
        "train_dataset = tf.data.Dataset.from_tensor_slices((x_train, y_train))\n",
        "train_dataset = train_dataset.shuffle(buffer_size=1024).batch(batch_size)\n",
        "\n",
        "# Prepare the validation dataset.\n",
        "val_dataset = tf.data.Dataset.from_tensor_slices((x_val, y_val))\n",
        "val_dataset = val_dataset.batch(batch_size)"
      ],
      "metadata": {
        "colab": {
          "base_uri": "https://localhost:8080/"
        },
        "id": "IeOE_KVn9HIB",
        "outputId": "290fdfba-a857-4a7f-e8e7-d6d71243a0fa"
      },
      "execution_count": 3,
      "outputs": [
        {
          "output_type": "stream",
          "name": "stdout",
          "text": [
            "Downloading data from https://storage.googleapis.com/tensorflow/tf-keras-datasets/mnist.npz\n",
            "11490434/11490434 [==============================] - 0s 0us/step\n"
          ]
        }
      ]
    },
    {
      "cell_type": "code",
      "source": [
        "epochs = 2\n",
        "for epoch in range(epochs):\n",
        "  print(\"\\nStart of epoch %d\" % (epoch,))\n",
        "\n",
        "  # Iterate over the batches of the dataset.\n",
        "  for step, (x_batch_train, y_batch_train) in enumerate(train_dataset):\n",
        "    # Open a GradientTape to record the operations run\n",
        "    # during the forward pass, which enables auto-differentiation.\n",
        "    with tf.GradientTape() as tape:\n",
        "\n",
        "      # Run the forward pass of the layer.\n",
        "      # The operations that the layer applies\n",
        "      # to its inputs are going to be recorded\n",
        "      # on the GradientTape.\n",
        "      logits = model(x_batch_train, training=True) # Logits for this minibatch\n",
        "\n",
        "      # Compute the loss value for this minibatch\n",
        "      loss_value = loss_fn(y_batch_train, logits)\n",
        "\n",
        "    # Use the gradient tape to automatically retrieve\n",
        "    # the gradients of the trainable variables with respect to the loss.\n",
        "    grads = tape.gradient(loss_value, model.trainable_weights)\n",
        "\n",
        "    # Run one step of gradient descent by updating\n",
        "    # the value of the variables to minimize the loss.\n",
        "    optimizer.apply_gradients(zip(grads, model.trainable_weights))\n",
        "\n",
        "    # Log every 200 batches.\n",
        "    if step % 200 == 0:\n",
        "      print(\n",
        "          \"Training loss (for one batch) at step %d: %.4f\"\n",
        "          % (step, float(loss_value))\n",
        "      )\n",
        "      print(\"Seen so far: %s samples\" % ((step + 1) * batch_size))"
      ],
      "metadata": {
        "colab": {
          "base_uri": "https://localhost:8080/"
        },
        "id": "txoGvs4T-v7T",
        "outputId": "0cd16591-4cc2-43d5-e1d3-d265468606ec"
      },
      "execution_count": 5,
      "outputs": [
        {
          "output_type": "stream",
          "name": "stdout",
          "text": [
            "\n",
            "Start of epoch 0\n",
            "Training loss (for one batch) at step 0: 135.1541\n",
            "Seen so far: 64 samples\n",
            "Training loss (for one batch) at step 200: 1.0214\n",
            "Seen so far: 12864 samples\n",
            "Training loss (for one batch) at step 400: 0.9813\n",
            "Seen so far: 25664 samples\n",
            "Training loss (for one batch) at step 600: 1.4159\n",
            "Seen so far: 38464 samples\n",
            "\n",
            "Start of epoch 1\n",
            "Training loss (for one batch) at step 0: 0.8051\n",
            "Seen so far: 64 samples\n",
            "Training loss (for one batch) at step 200: 0.8023\n",
            "Seen so far: 12864 samples\n",
            "Training loss (for one batch) at step 400: 0.7992\n",
            "Seen so far: 25664 samples\n",
            "Training loss (for one batch) at step 600: 0.8597\n",
            "Seen so far: 38464 samples\n"
          ]
        }
      ]
    },
    {
      "cell_type": "code",
      "source": [
        "# Get model\n",
        "inputs = keras.Input(shape=(784,), name=\"digits\")\n",
        "x = layers.Dense(64, activation=\"relu\", name=\"dense_1\")(inputs)\n",
        "x = layers.Dense(64, activation=\"relu\", name=\"dense_2\")(x)\n",
        "outputs = layers.Dense(10, name=\"predictions\")(x)\n",
        "model = keras.Model(inputs=inputs, outputs=outputs)\n",
        "\n",
        "# Instantiate an optimizer to train the model.\n",
        "optimizer = keras.optimizers.SGD(learning_rate=1e-3)\n",
        "# Instantiate a loss function.\n",
        "loss_fn = keras.losses.SparseCategoricalCrossentropy(from_logits=True)\n",
        "\n",
        "# Prepare the metrics.\n",
        "train_acc_metric = keras.metrics.SparseCategoricalAccuracy()\n",
        "val_acc_metric = keras.metrics.SparseCategoricalAccuracy()"
      ],
      "metadata": {
        "id": "BmCuQpjiBW9K"
      },
      "execution_count": 6,
      "outputs": []
    },
    {
      "cell_type": "markdown",
      "source": [
        "Training & evaluation loop"
      ],
      "metadata": {
        "id": "-bmQ-x-UDCr9"
      }
    },
    {
      "cell_type": "code",
      "source": [
        "import time\n",
        "\n",
        "epochs = 2\n",
        "for epoch in range(epochs):\n",
        "  print(\"\\nStart of epoch %d\" % (epoch,))\n",
        "  start_time = time.time()\n",
        "\n",
        "  # Iterate over the batches of the dataset.\n",
        "  for step, (x_batch_train, y_batch_train) in enumerate(train_dataset):\n",
        "    with tf.GradientTape() as tape:\n",
        "      logits = model(x_batch_train, training=True)\n",
        "      loss_value = loss_fn(y_batch_train, logits)\n",
        "    grads = tape.gradient(loss_value, model.trainable_weights)\n",
        "    optimizer.apply_gradients(zip(grads, model.trainable_weights))\n",
        "\n",
        "    # Update training metric.\n",
        "    train_acc_metric.update_state(y_batch_train, logits)\n",
        "\n",
        "    # Log every 200 batches.\n",
        "    if step % 200 == 0:\n",
        "      print(\n",
        "          \"Training loss (for one batch) at step %d: %.4f\"\n",
        "          % (step, float(loss_value))\n",
        "      )\n",
        "      print(\"Seen so far: %d samples\" % ((step + 1) * batch_size))\n",
        "\n",
        "  # Display metrics at the end of each epoch.\n",
        "  train_acc = train_acc_metric.result()\n",
        "  print(\"Training acc over epoch: %.4f\" % (float(train_acc),))\n",
        "\n",
        "  # Reset training metrics at the end of each epoch\n",
        "  train_acc_metric.reset_states()\n",
        "\n",
        "  # Run a validation loop at the end of each epoch.\n",
        "  for x_batch_val, y_batch_val in val_dataset:\n",
        "    val_logits = model(x_batch_val, training=False)\n",
        "    # Update val metrics\n",
        "    val_acc_metric.update_state(y_batch_val, val_logits)\n",
        "  val_acc = val_acc_metric.result()\n",
        "  val_acc_metric.reset_states()\n",
        "  print(\"Validation acc: %.4f\" % (float(val_acc),))\n",
        "  print(\"Time taken: %.2fs\" % (time.time() - start_time))"
      ],
      "metadata": {
        "colab": {
          "base_uri": "https://localhost:8080/"
        },
        "id": "2RsNDW6IBSlD",
        "outputId": "fa6b5609-ed38-4ca4-e9c6-01c2b26c19c7"
      },
      "execution_count": 7,
      "outputs": [
        {
          "output_type": "stream",
          "name": "stdout",
          "text": [
            "\n",
            "Start of epoch 0\n",
            "Training loss (for one batch) at step 0: 112.9894\n",
            "Seen so far: 64 samples\n",
            "Training loss (for one batch) at step 200: 1.1263\n",
            "Seen so far: 12864 samples\n",
            "Training loss (for one batch) at step 400: 0.3714\n",
            "Seen so far: 25664 samples\n",
            "Training loss (for one batch) at step 600: 1.5703\n",
            "Seen so far: 38464 samples\n",
            "Training acc over epoch: 0.7667\n",
            "Validation acc: 0.8469\n",
            "Time taken: 10.72s\n",
            "\n",
            "Start of epoch 1\n",
            "Training loss (for one batch) at step 0: 0.7717\n",
            "Seen so far: 64 samples\n",
            "Training loss (for one batch) at step 200: 0.3471\n",
            "Seen so far: 12864 samples\n",
            "Training loss (for one batch) at step 400: 0.6367\n",
            "Seen so far: 25664 samples\n",
            "Training loss (for one batch) at step 600: 0.2222\n",
            "Seen so far: 38464 samples\n",
            "Training acc over epoch: 0.8605\n",
            "Validation acc: 0.8784\n",
            "Time taken: 7.34s\n"
          ]
        }
      ]
    },
    {
      "cell_type": "markdown",
      "source": [
        "### Speeding-up training step with tf.function"
      ],
      "metadata": {
        "id": "ILbtsxriFw58"
      }
    },
    {
      "cell_type": "code",
      "source": [
        "@tf.function\n",
        "def train_step(x,y):\n",
        "  with tf.GradientTape() as tape:\n",
        "    logits = model(x, training=True)\n",
        "    loss_value = loss_fn(y, logits)\n",
        "  grads = tape.gradient(loss_value, model.trainable_weights)\n",
        "  optimizer.apply_gradients(zip(grads, model.trainable_weights))\n",
        "  train_acc_metric.update_state(y, logits)\n",
        "  return loss_value"
      ],
      "metadata": {
        "id": "Ng0FmxwmFe4c"
      },
      "execution_count": 8,
      "outputs": []
    },
    {
      "cell_type": "code",
      "source": [
        "@tf.function\n",
        "def test_step(x, y):\n",
        "  val_logits = model(x, training=False)\n",
        "  val_acc_metric.update_state(y, val_logits)"
      ],
      "metadata": {
        "id": "wFbgWq82GzGU"
      },
      "execution_count": 9,
      "outputs": []
    },
    {
      "cell_type": "code",
      "source": [
        "import time\n",
        "\n",
        "epochs = 2\n",
        "for epoch in range(epochs):\n",
        "  print(\"\\nStart of epoch %d\" % (epoch,))\n",
        "  start_time = time.time()\n",
        "\n",
        "  # Iterate over the batches of the dataset.\n",
        "  for step, (x_batch_train, y_batch_train) in enumerate(train_dataset):\n",
        "    loss_value = train_step(x_batch_train, y_batch_train)\n",
        "\n",
        "    # Log every 200 batches.\n",
        "    if step % 200 == 0:\n",
        "      print(\n",
        "          \"Training loss (for one batch) at step %d: %.4f\"\n",
        "          % (step, float(loss_value))\n",
        "      )\n",
        "      print(\"Seen so far: %d samples\" % ((step + 1) * batch_size))\n",
        "\n",
        "  # Display metrics at the end of each epoch.\n",
        "  train_acc = train_acc_metric.result()\n",
        "  print(\"Training acc over epoch: %.4f\" % (float(train_acc),))\n",
        "\n",
        "  # Reset training metrics at the end of each epoch\n",
        "  train_acc_metric.reset_states()\n",
        "\n",
        "  # Run a validation loop at the end of each epoch.\n",
        "  for x_batch_val, y_batch_val in val_dataset:\n",
        "    test_step(x_batch_val, y_batch_val)\n",
        "\n",
        "  val_acc = val_acc_metric.result()\n",
        "  val_acc_metric.reset_states()\n",
        "  print(\"Validation acc: %.4f\" % (float(val_acc),))\n",
        "  print(\"Time taken: %.2fs\" % (time.time() - start_time))"
      ],
      "metadata": {
        "colab": {
          "base_uri": "https://localhost:8080/"
        },
        "id": "C4Yv6b_2HL35",
        "outputId": "7582ab54-6385-4d0f-df08-b413605340be"
      },
      "execution_count": 10,
      "outputs": [
        {
          "output_type": "stream",
          "name": "stdout",
          "text": [
            "\n",
            "Start of epoch 0\n",
            "Training loss (for one batch) at step 0: 1.0483\n",
            "Seen so far: 64 samples\n",
            "Training loss (for one batch) at step 200: 0.4222\n",
            "Seen so far: 12864 samples\n",
            "Training loss (for one batch) at step 400: 0.2245\n",
            "Seen so far: 25664 samples\n",
            "Training loss (for one batch) at step 600: 0.4014\n",
            "Seen so far: 38464 samples\n",
            "Training acc over epoch: 0.8901\n",
            "Validation acc: 0.8938\n",
            "Time taken: 2.84s\n",
            "\n",
            "Start of epoch 1\n",
            "Training loss (for one batch) at step 0: 0.6109\n",
            "Seen so far: 64 samples\n",
            "Training loss (for one batch) at step 200: 0.5575\n",
            "Seen so far: 12864 samples\n",
            "Training loss (for one batch) at step 400: 0.1843\n",
            "Seen so far: 25664 samples\n",
            "Training loss (for one batch) at step 600: 0.5027\n",
            "Seen so far: 38464 samples\n",
            "Training acc over epoch: 0.9039\n",
            "Validation acc: 0.8934\n",
            "Time taken: 2.76s\n"
          ]
        }
      ]
    },
    {
      "cell_type": "markdown",
      "source": [
        "### [Low-level handling of losses tracked by the model](https://www.tensorflow.org/guide/keras/writing_a_training_loop_from_scratch?hl=en#low-level_handling_of_losses_tracked_by_the_model)"
      ],
      "metadata": {
        "id": "hDlBb-HrJNFA"
      }
    },
    {
      "cell_type": "code",
      "source": [
        "class ActivityRegularizationLayer(layers.Layer):\n",
        "  def call(self, inputs):\n",
        "    self.add_loss(1e-2 * tf.reduce_sum(inputs))\n",
        "    return inputs"
      ],
      "metadata": {
        "id": "Asb23xLMH8X5"
      },
      "execution_count": 11,
      "outputs": []
    },
    {
      "cell_type": "code",
      "source": [
        "inputs = keras.Input(shape=(784,), name=\"digits\")\n",
        "x = layers.Dense(64, activation=\"relu\")(inputs)\n",
        "# Insert activity regularization as a layer\n",
        "x = ActivityRegularizationLayer()(x)\n",
        "x = layers.Dense(64, activation=\"relu\")(x)\n",
        "outputs = layers.Dense(10, name=\"predictions\")(x)\n",
        "\n",
        "model = keras.Model(inputs=inputs, outputs=outputs)"
      ],
      "metadata": {
        "id": "ywBaR0ulJeqK"
      },
      "execution_count": 12,
      "outputs": []
    },
    {
      "cell_type": "code",
      "source": [
        "@tf.function\n",
        "def train_step(x, y):\n",
        "  with tf.GradientTape() as tape:\n",
        "    logits = model(x, training=True)\n",
        "    loss_value = loss_fn(y, logits)\n",
        "    # Add any extra losses created during the forward pass.\n",
        "    loss_value += sum(model.losses)\n",
        "  grads = tape.gradient(loss_value, model.trainable_weights)\n",
        "  optimizer.apply_gradients(zip(grads, model.trainable_weights))\n",
        "  train_acc_metric.update_state(y, logits)\n",
        "  return loss_value"
      ],
      "metadata": {
        "id": "J3OaZtMQJtUl"
      },
      "execution_count": 13,
      "outputs": []
    },
    {
      "cell_type": "code",
      "source": [
        ""
      ],
      "metadata": {
        "id": "omVErSHAKHqB"
      },
      "execution_count": null,
      "outputs": []
    }
  ]
}